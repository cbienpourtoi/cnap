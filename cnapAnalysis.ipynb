{
 "cells": [
  {
   "cell_type": "markdown",
   "metadata": {},
   "source": [
    "# Analyse des resultats du cnap 2016"
   ]
  },
  {
   "cell_type": "code",
   "execution_count": 3,
   "metadata": {
    "collapsed": true
   },
   "outputs": [],
   "source": [
    "%matplotlib inline\n",
    "import pandas as pd\n",
    "import numpy as np\n",
    "import matplotlib.pyplot as plt"
   ]
  },
  {
   "cell_type": "code",
   "execution_count": 4,
   "metadata": {
    "collapsed": false
   },
   "outputs": [],
   "source": [
    "candidats = pd.read_excel(\"fichierCorrige/candidatsAddedValue.xlsx\")"
   ]
  },
  {
   "cell_type": "code",
   "execution_count": 5,
   "metadata": {
    "collapsed": false
   },
   "outputs": [],
   "source": [
    "candidats = candidats[candidats.nom.isnull() == False] #Deletes last useless lines\n",
    "candidats = candidats[candidats.year.isnull() == False]"
   ]
  },
  {
   "cell_type": "code",
   "execution_count": 6,
   "metadata": {
    "collapsed": false
   },
   "outputs": [
    {
     "data": {
      "text/plain": [
       "{1, 2, 3, 4, 5, 6, 7, 8, 9, 10, 11, 12, 14}"
      ]
     },
     "execution_count": 6,
     "metadata": {},
     "output_type": "execute_result"
    }
   ],
   "source": [
    "candidats[\"age\"] = 2016-candidats.year # Scientific age: years since the Ph.D. defense.\n",
    "set(candidats.age)"
   ]
  },
  {
   "cell_type": "code",
   "execution_count": 33,
   "metadata": {
    "collapsed": false
   },
   "outputs": [],
   "source": [
    "femmes = candidats[candidats.genre == 1]\n",
    "hommes = candidats[candidats.genre == -1]"
   ]
  },
  {
   "cell_type": "markdown",
   "metadata": {},
   "source": [
    "## Age distribution of candidates"
   ]
  },
  {
   "cell_type": "code",
   "execution_count": 35,
   "metadata": {
    "collapsed": false
   },
   "outputs": [
    {
     "data": {
      "text/plain": [
       "<matplotlib.text.Text at 0x7f2e80ce0950>"
      ]
     },
     "execution_count": 35,
     "metadata": {},
     "output_type": "execute_result"
    },
    {
     "data": {
      "image/png": "[encoded data removed]",
      "text/plain": [
       "<matplotlib.figure.Figure at 0x7f2e8116af50>"
      ]
     },
     "metadata": {},
     "output_type": "display_data"
    }
   ],
   "source": [
    "nBins = np.max(candidats.age)-np.min(candidats.age)+1\n",
    "yRange = (np.min(candidats.age),np.max(candidats.age)+1)\n",
    "candidats.age.hist(bins=nBins, range=yRange, label=\"all\", alpha=0.3)\n",
    "hommes.age.hist(bins=nBins, range=yRange, label=\"men\", alpha=0.6)\n",
    "femmes.age.hist(bins=nBins, range=yRange, label=\"women\", alpha=0.6)\n",
    "plt.legend(loc='upper right')\n",
    "plt.title(\"Age distribution\")"
   ]
  },
  {
   "cell_type": "markdown",
   "metadata": {},
   "source": [
    "#### Note that this age distribution of very different for women and men:\n",
    "#### At PhD+2, there is 1 woman for 15 men (would be interesting to understand this: selection effet or application bias?)\n",
    "#### Between PhD+3 and PhD+6, there is more or less a similar number of man and women (with an advantage for men)\n",
    "#### After PhD+7, there are almost no women."
   ]
  },
  {
   "cell_type": "markdown",
   "metadata": {},
   "source": [
    "### Age comparisons"
   ]
  },
  {
   "cell_type": "code",
   "execution_count": 38,
   "metadata": {
    "collapsed": false
   },
   "outputs": [
    {
     "data": {
      "text/plain": [
       "<matplotlib.text.Text at 0x7f2e80ac1910>"
      ]
     },
     "execution_count": 38,
     "metadata": {},
     "output_type": "execute_result"
    },
    {
     "data": {
      "image/png": "[encoded data removed]",
      "text/plain": [
       "<matplotlib.figure.Figure at 0x7f2e813207d0>"
      ]
     },
     "metadata": {},
     "output_type": "display_data"
    }
   ],
   "source": [
    "histF = np.histogram(femmes.age, bins=nBins, range=yRange)\n",
    "histH = np.histogram(hommes.age, bins=nBins, range=yRange)\n",
    "if np.sum(histF[1]-histH[1])!=0: # Catching error, just in case\n",
    "    print \"error here\"\n",
    "histFsurH = histF[0] / histH[0].astype(float)\n",
    "#print len(histF[1][0:-1])\n",
    "#print len(histFsurH)\n",
    "plt.plot(histF[1][0:-1], histFsurH)\n",
    "plt.title(\"Rapport candidats Femmes/Hommes\")"
   ]
  },
  {
   "cell_type": "code",
   "execution_count": 39,
   "metadata": {
    "collapsed": false
   },
   "outputs": [
    {
     "name": "stdout",
     "output_type": "stream",
     "text": [
      "Nombre d'hommes en dessous de these+3 :  17\n",
      "Nombre de femmes en dessous de these+3 :  3\n",
      "Proportion de femmes en dessous de these+3 :  0.15\n"
     ]
    }
   ],
   "source": [
    "fAge3 = np.sum(femmes.age<3)\n",
    "hAge3 = np.sum(hommes.age<3)\n",
    "\n",
    "print \"Nombre d'hommes en dessous de these+3 : \", hAge3\n",
    "print \"Nombre de femmes en dessous de these+3 : \", fAge3\n",
    "print \"Proportion de femmes en dessous de these+3 : \", fAge3/float(hAge3+fAge3)"
   ]
  },
  {
   "cell_type": "code",
   "execution_count": 40,
   "metadata": {
    "collapsed": false
   },
   "outputs": [
    {
     "name": "stdout",
     "output_type": "stream",
     "text": [
      "Nombre d'hommes entre these+3 et +6 :  34\n",
      "Nombre de femmes entre these+3 et +6 :  29\n",
      "Proportion de femmes entre these+3 et +6 :  0.460317460317\n",
      "Age moyen pour ces hommes:  4.61764705882\n",
      "Age moyen pour ces femmes:  4.58620689655\n"
     ]
    }
   ],
   "source": [
    "fAge36 = np.sum((femmes.age>=3) & (femmes.age<=6))\n",
    "hAge36 = np.sum((hommes.age>=3) & (hommes.age<=6))\n",
    "\n",
    "print \"Nombre d'hommes entre these+3 et +6 : \", hAge36\n",
    "print \"Nombre de femmes entre these+3 et +6 : \", fAge36\n",
    "print \"Proportion de femmes entre these+3 et +6 : \", fAge36/float(hAge36+fAge36)\n",
    "\n",
    "midH = hommes[(hommes.age>=3) & (hommes.age<=6)]\n",
    "midF = femmes[(femmes.age>=3) & (femmes.age<=6)]\n",
    "\n",
    "print \"Age moyen pour ces hommes: \", midH.age.mean()\n",
    "print \"Age moyen pour ces femmes: \", midF.age.mean()"
   ]
  },
  {
   "cell_type": "code",
   "execution_count": 41,
   "metadata": {
    "collapsed": false
   },
   "outputs": [
    {
     "name": "stdout",
     "output_type": "stream",
     "text": [
      "Nombre d'hommes apres these+6 :  21\n",
      "Nombre de femmes apres these+6 :  5\n",
      "Proportion de femmes apres these+6 :  0.192307692308\n"
     ]
    }
   ],
   "source": [
    "fAge7 = np.sum(femmes.age>=7)\n",
    "hAge7 = np.sum(hommes.age>=7)\n",
    "\n",
    "print \"Nombre d'hommes apres these+6 : \", hAge7\n",
    "print \"Nombre de femmes apres these+6 : \", fAge7\n",
    "print \"Proportion de femmes apres these+6 : \", fAge7/float(hAge7+fAge7)"
   ]
  },
  {
   "cell_type": "markdown",
   "metadata": {},
   "source": [
    "## Age distribution of successful candidates"
   ]
  },
  {
   "cell_type": "code",
   "execution_count": 42,
   "metadata": {
    "collapsed": false
   },
   "outputs": [
    {
     "data": {
      "text/plain": [
       "<matplotlib.legend.Legend at 0x7f2e809b1ad0>"
      ]
     },
     "execution_count": 42,
     "metadata": {},
     "output_type": "execute_result"
    },
    {
     "data": {
      "image/png": "[encoded data removed]",
      "text/plain": [
       "<matplotlib.figure.Figure at 0x7f2e80beae90>"
      ]
     },
     "metadata": {},
     "output_type": "display_data"
    }
   ],
   "source": [
    "admis = candidats[candidats.admis == 1]\n",
    "nBins = np.max(admis.age)-np.min(admis.age)+1\n",
    "yRange = (np.min(admis.age),np.max(admis.age)+1)\n",
    "admis.age.hist(bins=nBins, range=yRange, label=\"all\", alpha=0.3)\n",
    "admis[admis.genre == -1].age.hist(bins=nBins, range=yRange, label=\"external gonads\", alpha=0.6)\n",
    "plt.title(\"Age repartition of successful candidates\")\n",
    "plt.legend()"
   ]
  },
  {
   "cell_type": "code",
   "execution_count": 43,
   "metadata": {
    "collapsed": false
   },
   "outputs": [
    {
     "data": {
      "text/plain": [
       "<matplotlib.text.Text at 0x7f2e808f5a10>"
      ]
     },
     "execution_count": 43,
     "metadata": {},
     "output_type": "execute_result"
    },
    {
     "data": {
      "image/png": "[encoded data removed]",
      "text/plain": [
       "<matplotlib.figure.Figure at 0x7f2e80d5b3d0>"
      ]
     },
     "metadata": {},
     "output_type": "display_data"
    }
   ],
   "source": [
    "nBins = np.max(candidats.age)-np.min(candidats.age)+1\n",
    "yRange = (np.min(candidats.age),np.max(candidats.age)+1)\n",
    "candidats.age.hist(bins=nBins, range=yRange, label=\"candidat-e-s\", alpha=0.3)\n",
    "admis.age.hist(bins=nBins, range=yRange, label=\"admis-e-s\", alpha=0.3)\n",
    "plt.legend(loc='upper right')\n",
    "plt.title(\"Age distribution\")"
   ]
  },
  {
   "cell_type": "code",
   "execution_count": 44,
   "metadata": {
    "collapsed": false
   },
   "outputs": [
    {
     "data": {
      "text/plain": [
       "<matplotlib.text.Text at 0x7f2e80768750>"
      ]
     },
     "execution_count": 44,
     "metadata": {},
     "output_type": "execute_result"
    },
    {
     "data": {
      "image/png": "[encoded data removed]",
      "text/plain": [
       "<matplotlib.figure.Figure at 0x7f2e807d5950>"
      ]
     },
     "metadata": {},
     "output_type": "display_data"
    }
   ],
   "source": [
    "nBins = np.max(candidats.age)-np.min(candidats.age)+1\n",
    "yRange = (np.min(candidats.age),np.max(candidats.age)+1)\n",
    "candidats[candidats.genre == -1].age.hist(bins=nBins, range=yRange, label=\"external gonads\", alpha=0.6)\n",
    "candidats[candidats.genre == 1].age.hist(bins=nBins, range=yRange, label=\"internal gonads\", alpha=0.6)\n",
    "admis.age.hist(bins=nBins, range=yRange, label=\"admis-e-s\", alpha=1.)\n",
    "plt.legend(loc='upper right')\n",
    "plt.title(\"Age distribution\")"
   ]
  },
  {
   "cell_type": "code",
   "execution_count": null,
   "metadata": {
    "collapsed": true
   },
   "outputs": [],
   "source": []
  }
 ],
 "metadata": {
  "kernelspec": {
   "display_name": "Python 2",
   "language": "python",
   "name": "python2"
  },
  "language_info": {
   "codemirror_mode": {
    "name": "ipython",
    "version": 2
   },
   "file_extension": ".py",
   "mimetype": "text/x-python",
   "name": "python",
   "nbconvert_exporter": "python",
   "pygments_lexer": "ipython2",
   "version": "2.7.11"
  }
 },
 "nbformat": 4,
 "nbformat_minor": 0
}
